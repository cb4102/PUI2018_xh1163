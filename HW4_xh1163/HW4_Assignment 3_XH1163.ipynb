{
 "cells": [
  {
   "cell_type": "markdown",
   "metadata": {},
   "source": [
    "# NULL HYPOTHESIS:\n",
    "\n",
    "##  The commute time is the same or longer with the new bus route as it was before.\n",
    "\n",
    "### H0: Average_Time_new >= Average_Time_old\n",
    "\n",
    "\n",
    "# Alternative  HYPOTHESIS:\n",
    "\n",
    "## the commute time is shorter with the new bus route as it was before.\n",
    "\n",
    "###  Ha: Average_Time_new < Average_Time_old\n",
    "\n",
    "\n",
    "## I will use a significance level  $\\alpha=0.05$\n",
    "\n",
    "\n",
    "## z =  $\\frac{μ_{old} -  μ_{new}}{σ_{old} / √N}$\n"
   ]
  },
  {
   "cell_type": "code",
   "execution_count": 91,
   "metadata": {},
   "outputs": [
    {
     "name": "stdout",
     "output_type": "stream",
     "text": [
      "μ of the new bus route is 34.466162\n"
     ]
    }
   ],
   "source": [
    "import numpy as np\n",
    "import requests\n",
    "import math\n",
    "\n",
    "# the download of the data\n",
    "t = requests.get('https://raw.github.com/fedhere/PUI2018_fb55/master/Lab4_fb55/times.txt')\n",
    "t_l = t.text.split('\\n')\n",
    "time=[]\n",
    "for i in range(len(t_l)-1):\n",
    "    #print(t_l[i])\n",
    "    n=(float(t_l[i]))\n",
    "    time.append(n)\n",
    "times= np.array(time)   \n",
    "Mean_new = times.mean()\n",
    "Std_new = times.std()\n",
    "Mean_old=36\n",
    "Std_old=6\n",
    "N= times.size\n",
    "print(\"μ of the new bus route time is %f\" % (Mean_new))"
   ]
  },
  {
   "cell_type": "code",
   "execution_count": 93,
   "metadata": {},
   "outputs": [
    {
     "name": "stdout",
     "output_type": "stream",
     "text": [
      "Z Statistics is 2.556397\n"
     ]
    }
   ],
   "source": [
    "z_statistics= (Mean_old - Mean_new) / (Std_old / math.sqrt(N))\n",
    "print(\"Z Statistics is %f\" % (z_statistics))"
   ]
  },
  {
   "cell_type": "markdown",
   "metadata": {},
   "source": [
    "\n",
    "### μ_old = 36, μ_new = 34.466162\n",
    "### σ_old = 6, N =100\n",
    "\n",
    "## z =  $\\frac{μ_{old} -  μ_{new}}{σ_{old} / √N}$ = $\\frac{36 -  34.466162}{6 / √100}$  = 2.556397\n",
    "\n",
    "### As the Z test is returning multiples of the standard deviation of a Normal distribution,  a Z Statistics  of 2 represents 2 standard deviation away from the mean, which corresponde to 95% of the data and the 0.05 significance level. \n",
    "### Since the Z Statistics now is 2.556 greater than 2,  the sample mean(new route time)  is more than 2  standard deviation away from the population mean(old route time) , which means it is out of the 95% of data and greater than the 0.05 significance level, so it fails to reject the null hypothesis that the commute time is the same or longer with the new bus route as it was before. "
   ]
  },
  {
   "cell_type": "code",
   "execution_count": null,
   "metadata": {},
   "outputs": [],
   "source": []
  }
 ],
 "metadata": {
  "kernelspec": {
   "display_name": "PUI2016_Python2",
   "language": "python",
   "name": "pui2016_python2"
  },
  "language_info": {
   "codemirror_mode": {
    "name": "ipython",
    "version": 2
   },
   "file_extension": ".py",
   "mimetype": "text/x-python",
   "name": "python",
   "nbconvert_exporter": "python",
   "pygments_lexer": "ipython2",
   "version": "2.7.12"
  }
 },
 "nbformat": 4,
 "nbformat_minor": 2
}
